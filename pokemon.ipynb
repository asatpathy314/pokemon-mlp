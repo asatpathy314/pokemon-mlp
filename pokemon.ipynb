{
 "cells": [
  {
   "cell_type": "code",
   "execution_count": null,
   "metadata": {},
   "outputs": [],
   "source": [
    "# Imports\n",
    "import numpy as np\n",
    "import matplotlib.pyplot as plt\n",
    "import math \n",
    "import pandas as pd \n",
    "from PIL import Image\n",
    "import os   "
   ]
  },
  {
   "cell_type": "markdown",
   "metadata": {},
   "source": [
    "# Cleaning up the Dataset"
   ]
  },
  {
   "cell_type": "code",
   "execution_count": null,
   "metadata": {},
   "outputs": [
    {
     "name": "stdout",
     "output_type": "stream",
     "text": [
      "['parasect', 'lumineon', 'raikou', 'dedenne', 'pyroar', 'articuno', 'magmortar', 'bulbasaur', 'banette', 'staraptor', 'pidove', 'comfey', 'taillow', 'charizard', 'infernape', 'sandshrew', 'marshadow', 'alakazam', 'lickitung', 'starmie', 'yanmega', 'yveltal', 'zigzagoon', 'thundurus-incarnate', 'petilil', 'torterra', 'purugly', 'cresselia', 'regigigas', 'palkia', 'froakie', 'munna', 'bellossom', 'gabite', 'tapu-koko', 'mareep', 'shieldon', 'stoutland', 'accelgor', 'makuhita', 'seviper', 'tirtouga', 'lampent', 'tornadus-incarnate', 'nidoking', 'huntail', 'nosepass', 'carracosta', 'nidoqueen', 'inkay', 'archeops', 'avalugg', 'grubbin', 'sentret', 'golbat', 'skorupi', 'conkeldurr', 'jellicent', 'hoopa-confined', 'yungoos', 'meltan', 'meloetta-aria', 'luxio', 'binacle', 'galvantula', 'crawdaunt', 'hippopotas', 'swirlix', 'finneon', 'medicham', 'poliwrath', 'magnemite', 'florges', 'serperior', 'shinx', 'budew', 'shellos', 'gothita', 'keldeo-ordinary', 'porygon', 'alomomola', 'electrike', 'dratini', 'mienfoo', 'reshiram', 'sawsbuck', 'blaziken', 'lycanroc-midday', 'flareon', 'gliscor', 'heatran', 'beedrill', 'darmanitan-standard', 'butterfree', 'fletchinder', 'tsareena', 'ludicolo', 'phanpy', 'toxicroak', 'cyndaquil', 'swellow', 'machop', 'fletchling', 'naganadel', 'ariados', 'mr-mime', 'passimian', 'frogadier', 'roggenrola', 'shedinja', 'duosion', 'scraggy', 'gumshoos', 'latias', 'shelmet', 'sawk', 'venusaur', 'azelf', 'basculin-red-striped', 'musharna', 'drampa', 'liepard', 'aipom', 'seaking', 'xurkitree', 'meditite', 'heatmor', 'chandelure', 'ivysaur', 'gible', 'corphish', 'octillery', 'cubone', 'dusclops', 'koffing', 'gengar', 'larvitar', 'rampardos', 'tyrogue', 'wigglytuff', 'castform', 'dusknoir', 'chinchou', 'litleo', 'manectric', 'ditto', 'scrafty', 'kakuna', 'gastrodon', 'wingull', 'flaaffy', 'sunflora', 'gastly', 'delcatty', 'granbull', 'whismur', 'cleffa', 'growlithe', 'sigilyph', 'cascoon', 'rapidash', 'hydreigon', 'cryogonal', 'stunfisk', 'stantler', 'tapu-fini', 'steenee', 'snubbull', 'crabominable', 'surskit', 'ampharos', 'monferno', 'zygarde-50', 'rhydon', 'arbok', 'amaura', 'lucario', 'pupitar', 'elekid', 'goomy', 'vullaby', 'venipede', 'doublade', 'tangela', 'pignite', 'sandile', 'brionne', 'machamp', 'wailord', 'rhyhorn', 'ninjask', 'salandit', 'grotle', 'dragonair', 'mime-jr', 'zebstrika', 'pikachu', 'typhlosion', 'aromatisse', 'chimecho', 'diggersby', 'trevenant', 'audino', 'dodrio', 'azumarill', 'aggron', 'dialga', 'tapu-bulu', 'totodile', 'tauros', 'silcoon', 'cottonee', 'araquanid', 'gallade', 'tropius', 'bouffalant', 'meowstic-male', 'woobat', 'archen', 'ho-oh', 'noibat', 'wartortle', 'eevee', 'mewtwo', 'buneary', 'sableye', 'bidoof', 'braixen', 'elgyem', 'gloom', 'electabuzz', 'piloswine', 'miltank', 'guzzlord', 'cinccino', 'anorith', 'wurmple', 'shelgon', 'toxapex', 'swalot', 'lurantis', 'tyrunt', 'pidgey', 'quagsire', 'gurdurr', 'amoonguss', 'mankey', 'illumise', 'cacturne', 'igglybuff', 'minior-meteor', 'qwilfish', 'goldeen', 'abra', 'nidoran-f', 'purrloin', 'gulpin', 'giratina-altered', 'munchlax', 'crobat', 'volcanion', 'lillipup', 'xerneas', 'lapras', 'gyarados', 'walrein', 'sneasel', 'lickilicky', 'skuntank', 'murkrow', 'bibarel', 'tentacool', 'watchog', 'oshawott', 'pidgeotto', 'espurr', 'houndoom', 'nidorino', 'hariyama', 'talonflame', 'dustox', 'mimikyu', 'kommo-o', 'weepinbell', 'seel', 'pyukumuku', 'pineco', 'cosmog', 'kadabra', 'swablu', 'skitty', 'masquerain', 'minun', 'heracross', 'trapinch', 'girafarig', 'tyrantrum', 'graveler', 'poochyena', 'electivire', 'gourgeist-average', 'shiinotic', 'melmetal', 'ledian', 'cherrim', 'popplio', 'primeape', 'vanillish', 'probopass', 'skiploom', 'chesnaught', 'kyurem', 'carnivine', 'torracat', 'gardevoir', 'pinsir', 'snorunt', 'samurott', 'necrozma', 'smeargle', 'magby', 'ursaring', 'crabrawler', 'haxorus', 'geodude', 'foongus', 'hippowdon', 'delibird', 'oranguru', 'drapion', 'smoochum', 'scyther', 'stunky', 'swadloon', 'klefki', 'vivillon', 'honedge', 'entei', 'servine', 'zubat', 'umbreon', 'reuniclus', 'froslass', 'pheromosa', 'magcargo', 'boldore', 'genesect', 'larvesta', 'aegislash-blade', 'golett', 'kartana', 'voltorb', 'regirock', 'cherubi', 'barboach', 'wooper', 'escavalier', 'vileplume', 'mismagius', 'blastoise', 'litten', 'sealeo', 'snivy', 'snorlax', 'lopunny', 'persian', 'beartic', 'gothorita', 'rattata', 'starly', 'bewear', 'houndour', 'eelektrik', 'quilava', 'whimsicott', 'magikarp', 'drowzee', 'claydol', 'clamperl', 'seedot', 'garchomp', 'skiddo', 'hypno', 'weedle', 'stakataka', 'ambipom', 'spoink', 'pikipek', 'frillish', 'cutiefly', 'honchkrow', 'tympole', 'meganium', 'incineroar', 'lileep', 'pachirisu', 'tyranitar', 'magnezone', 'beldum', 'glameow', 'swanna', 'primarina', 'nuzleaf', 'zangoose', 'gogoat', 'jolteon', 'moltres', 'dragonite', 'golurk', 'metapod', 'golisopod', 'marowak', 'gigalith', 'emboar', 'exeggutor', 'magneton', 'mesprit', 'groudon', 'wobbuffet', 'delphox', 'exploud', 'mantyke', 'malamar', 'simisage', 'espeon', 'landorus-incarnate', 'paras', 'noctowl', 'hitmonlee', 'slaking', 'solrock', 'pelipper', 'komala', 'poliwhirl', 'palpitoad', 'eelektross', 'patrat', 'spheal', 'seadra', 'lotad', 'ralts', 'registeel', 'slurpuff', 'arcanine', 'fomantis', 'tangrowth', 'aerodactyl', 'bronzor', 'wishiwashi-solo', 'sylveon', 'kyogre', 'sharpedo', 'flabebe', 'quilladin', 'feebas', 'metagross', 'maractus', 'muk', 'empoleon', 'chimchar', 'staryu', 'pancham', 'dwebble', 'bruxish', 'joltik', 'armaldo', 'wormadam-plant', 'phione', 'rhyperior', 'pansear', 'happiny', 'spearow', 'helioptile', 'fearow', 'prinplup', 'diancie', 'poipole', 'klink', 'farfetchd', 'gorebyss', 'noivern', 'herdier', 'tynamo', 'whiscash', 'nidoran-m', 'diglett', 'krokorok', 'scizor', 'nihilego', 'skarmory', 'remoraid', 'hitmontop', 'cosmoem', 'slowbro', 'numel', 'glalie', 'vaporeon', 'porygon-z', 'lunatone', 'machoke', 'mareanie', 'bastiodon', 'mandibuzz', 'arceus', 'throh', 'abomasnow', 'bronzong', 'greninja', 'hoppip', 'kecleon', 'crustle', 'shuppet', 'ducklett', 'plusle', 'poliwag', 'treecko', 'torchic', 'kabutops', 'dunsparce', 'flygon', 'dugtrio', 'marill', 'magearna', 'silvally', 'cacnea', 'slugma', 'oddish', 'jirachi', 'ribombee', 'litwick', 'pidgeot', 'sandslash', 'drilbur', 'cranidos', 'chansey', 'blacephalon', 'camerupt', 'pichu', 'duskull', 'kangaskhan', 'chingling', 'whirlipede', 'ferroseed', 'toucannon', 'barbaracle', 'salamence', 'zekrom', 'haunter', 'glaceon', 'shaymin-land', 'golduck', 'milotic', 'politoed', 'absol', 'mienshao', 'aron', 'tepig', 'klang', 'zapdos', 'clauncher', 'riolu', 'raichu', 'hitmonchan', 'slakoth', 'ponyta', 'togepi', 'pumpkaboo-average', 'snover', 'solosis', 'fraxure', 'caterpie', 'psyduck', 'teddiursa', 'tapu-lele', 'piplup', 'darumaka', 'weavile', 'mawile', 'sewaddle', 'unfezant', 'buzzwole', 'rockruff', 'manaphy', 'bunnelby', 'seismitoad', 'simipour', 'vanilluxe', 'cubchoo', 'mantine', 'dartrix', 'weezing', 'corsola', 'roserade', 'carbink', 'heliolisk', 'omanyte', 'rufflet', 'mothim', 'klinklang', 'sliggoo', 'raticate', 'dhelmise', 'vibrava', 'shiftry', 'swampert', 'excadrill', 'morelull', 'chatot', 'jigglypuff', 'loudred', 'forretress', 'togetic', 'feraligatr', 'bisharp', 'vikavolt', 'victreebel', 'decidueye', 'spinarak', 'onix', 'aurorus', 'venonat', 'wimpod', 'nidorina', 'tranquill', 'buizel', 'mightyena', 'vulpix', 'clawitzer', 'lilligant', 'togedemaru', 'minccino', 'charjabug', 'doduo', 'ferrothorn', 'misdreavus', 'kingdra', 'shuckle', 'rayquaza', 'palossand', 'mudbray', 'kricketune', 'skrelp', 'luxray', 'ledyba', 'baltoy', 'trumbeak', 'dewpider', 'sandygast', 'yanma', 'lugia', 'turtonator', 'hawlucha', 'leavanny', 'vespiquen', 'solgaleo', 'squirtle', 'slowking', 'exeggcute', 'emolga', 'carvanha', 'clefairy', 'bayleef', 'drifloon', 'stufful', 'sceptile', 'azurill', 'chespin', 'jangmo-o', 'panpour', 'staravia', 'linoone', 'spiritomb', 'zoroark', 'chikorita', 'vanillite', 'scatterbug', 'spinda', 'beheeyem', 'grimer', 'leafeon', 'deerling', 'celebi', 'breloom', 'turtwig', 'zweilous', 'burmy', 'swinub', 'axew', 'pangoro', 'darkrai', 'krabby', 'dewgong', 'volcarona', 'vigoroth', 'ninetales', 'pawniard', 'blitzle', 'porygon2', 'croagunk', 'xatu', 'lairon', 'tentacruel', 'krookodile', 'gothitelle', 'regice', 'goodra', 'meowth', 'grovyle', 'volbeat', 'unown', 'terrakion', 'deoxys-normal', 'togekiss', 'kricketot', 'zeraora', 'bellsprout', 'luvdisc', 'garbodor', 'horsea', 'nincada', 'dragalge', 'electrode', 'salazzle', 'fennekin', 'metang', 'donphan', 'jynx', 'yamask', 'druddigon', 'kabuto', 'magmar', 'swoobat', 'braviary', 'charmander', 'rowlet', 'lombre', 'durant', 'golem', 'sunkern', 'dewott', 'croconaw', 'cobalion', 'pansage', 'deino', 'spewpa', 'floette', 'combee', 'cofagrigus', 'furfrou', 'oricorio-baile', 'furret', 'clefable', 'wailmer', 'grumpig', 'charmeleon', 'phantump', 'venomoth', 'natu', 'simisear', 'blissey', 'spritzee', 'virizion', 'scolipede', 'mamoswine', 'kirlia', 'omastar', 'steelix', 'rotom', 'hoothoot', 'karrablast', 'torkoal', 'victini', 'cloyster', 'relicanth', 'wynaut', 'zorua', 'timburr', 'drifblim', 'altaria', 'cradily', 'mudkip', 'lunala', 'mudsdale', 'shellder', 'jumpluff', 'bounsweet', 'trubbish', 'beautifly', 'bagon', 'celesteela', 'marshtomp', 'uxie', 'suicune', 'sudowoodo', 'bergmite', 'lanturn', 'kingler', 'shroomish', 'gligar', 'roselia', 'bonsly', 'type-null', 'combusken', 'slowpoke', 'floatzel', 'latios', 'mew', 'ekans', 'hakamo-o']\n",
      "            Name     Type1   Type2   Evolution\n",
      "0      bulbasaur     Grass  Poison     ivysaur\n",
      "1        ivysaur     Grass  Poison    venusaur\n",
      "2       venusaur     Grass  Poison         NaN\n",
      "3     charmander      Fire     NaN  charmeleon\n",
      "4     charmeleon      Fire     NaN   charizard\n",
      "..           ...       ...     ...         ...\n",
      "804    stakataka      Rock   Steel         NaN\n",
      "805  blacephalon      Fire   Ghost         NaN\n",
      "806      zeraora  Electric     NaN         NaN\n",
      "807       meltan     Steel     NaN         NaN\n",
      "808     melmetal     Steel     NaN         NaN\n",
      "\n",
      "[809 rows x 4 columns]\n"
     ]
    }
   ],
   "source": [
    "def load_images(folder_name):\n",
    "    images = []\n",
    "    filenames =[]\n",
    "    for filename in os.listdir(folder_name):\n",
    "        try:\n",
    "            filepath = os.path.join(folder_name, filename)\n",
    "            img = Image.open(filepath)\n",
    "            filenames.append(filename.split(\".\")[0])\n",
    "            images.append(img)\n",
    "        except Exception as error:\n",
    "            print(f\"Error loading {folder_name}: {error}\")\n",
    "    return zip(images, filenames) ###Returns images and pokemon names \n",
    "\n",
    "def image_processing(images):\n",
    "    new_images = []\n",
    "    for image in images:\n",
    "        array_image = np.asarray(image).flatten()\n",
    "        new_images.append(array_image)\n",
    "    return new_images\n",
    "\n",
    "image_data = \"images\"\n",
    "pokemon_data = pd.read_csv(\"pokemon.csv\")\n",
    "pokemon_images, pokemon_names = load_images(image_data)\n",
    "print(pokemon_names)\n",
    "data = image_processing(pokemon_images)\n",
    "\n",
    "\n",
    "\n",
    "pokemon_data['Image Data'] = data # Add array of Pokemon data to Image data sec\n",
    "pokemon_Data = pokemon_data.dropna(subset = ['Image Data']) # Drop rows w/ N/A\n",
    "\n",
    "print(pokemon_Data[['Name','Type1','Type2','Evolution']])"
   ]
  },
  {
   "cell_type": "markdown",
   "metadata": {},
   "source": [
    "# Training Code"
   ]
  },
  {
   "cell_type": "markdown",
   "metadata": {},
   "source": [
    "# An Introduction to Bayesian Hyperparameter Optimization"
   ]
  },
  {
   "cell_type": "markdown",
   "metadata": {},
   "source": [
    "### Bayes Theorem \n",
    "Bayes theorem defines the probability of an event $A$ conditioned on an event $B$ as follows.\n",
    "\n",
    "$$ P(A|B) = \\frac{P(B | A) \\ast P(A)}{P(B)} $$\n",
    "\n",
    "Using this theorem, we can optimize a complicated function by creating an easier to calculate surrogate based on a probability distribution created by sampling our original function. Then we continue to take samples that are most likely to improve our estimate of the best \"score\", making our surrogates estimations more and more accurate. This process is called **Bayesian Optimization**. Let's get started by defining an \"objective\" function (score function) and a basic Gaussian Process model below."
   ]
  },
  {
   "cell_type": "code",
   "execution_count": null,
   "metadata": {},
   "outputs": [],
   "source": [
    "# Imports\n",
    "from scipy.stats import norm\n",
    "from sklearn.gaussian_process import GaussianProcessRegressor"
   ]
  },
  {
   "cell_type": "code",
   "execution_count": null,
   "metadata": {},
   "outputs": [],
   "source": [
    "# Define an expensive objective function that we want to approximate\n",
    "def objective(x, noise=0.5):\n",
    "    random_noise = np.random.normal(scale=noise)\n",
    "    return (math.sin(3* math.pi * x) + x) + random_noise\n",
    "\n",
    "# Generate initial samples with noise\n",
    "X = np.random.random(100).reshape(-1, 1)\n",
    "y = np.array([objective(x) for x in X]).reshape(-1, 1)\n",
    "\n",
    "# Instantiate the model\n",
    "model = GaussianProcessRegressor()\n",
    "model.fit(X, y)"
   ]
  },
  {
   "cell_type": "code",
   "execution_count": null,
   "metadata": {},
   "outputs": [],
   "source": [
    "# Define a visualization function that plots prediction vs. actual\n",
    "def visualize(X, y):\n",
    "    plt.scatter(X, y)\n",
    "    Xsamples = np.arange(0, 1, 0.001).reshape(-1, 1)\n",
    "    ysamples = model.predict(Xsamples)\n",
    "    plt.title(\"Initial Model Predictions\")\n",
    "    plt.plot(Xsamples, ysamples)\n",
    "    plt.show()\n",
    "\n",
    "# Visualize the initial data\n",
    "visualize(X, y)"
   ]
  },
  {
   "cell_type": "markdown",
   "metadata": {},
   "source": [
    "### Acquisition Function\n",
    "Now we have the problem of exploration vs exploitation, often observed in reinforcement learning problems such as bandit optimization. How can we choose points such that we optimize the balance between exploring unknown points that could potentially be better than what we have and verifying our current highest scores, especially in a non-deterministic sample space? This is where acquisition functions come in, they use various heuristic methods to determine what points are most likely to improve the model's predictions. Some of these methods include:\n",
    "\n",
    "- Probability of Improvement (PI): This is the simplest acquisition function. It focuses on the probability that a given point will improve upon the current best-known value. However, it often gets stuck in local optima due to its simplicity.\n",
    "- Expected Improvement (EI): This function not only considers the probability of improvement but also takes into account the potential magnitude of improvement. It refines the approach by evaluating how much better a possible outcome could be.\n",
    "- Entropy Search: This method selects points that will provide the most information gain, effectively balancing exploration across the sample space. It can be likened to traversing an extensive landscape of hills and valleys, seeking areas that offer the most insight.\n",
    "- Upper Confidence Bound (UCB): UCB uses a balance factor to weigh between exploration and exploitation. It adjusts its strategy based on a confidence interval around predictions, allowing for a dynamic balance between trying new points and exploiting known high-value areas.\n",
    "\n",
    "The technical workings of why these functions work and exactly how they differ from each other are beyond the scope of this class. However, it's worth knowing the functional differences. "
   ]
  },
  {
   "cell_type": "code",
   "execution_count": null,
   "metadata": {},
   "outputs": [],
   "source": [
    "# Define the acquisition function to calculate probability of improvement\n",
    "def probability_of_improvement(X, Xsamples, xi=0.01):\n",
    "    # Determine the best score from the surrogate model so far\n",
    "    yhat = model.predict(X)\n",
    "    best_score = max(yhat)\n",
    "\n",
    "    # Calculate mean and standard deviation using the surrogate model\n",
    "    mu, std = model.predict(Xsamples, return_std=True)\n",
    "\n",
    "    # Compute probability of improvement\n",
    "    probabilities = norm.cdf((mu - best_score - xi) / (std + 1E-9))\n",
    "    return probabilities\n",
    "\n",
    "# Function to optimize the acquisition function\n",
    "def optimize_acquisition(X, y):\n",
    "    # Generate random samples for exploration\n",
    "    Xsamples = np.random.random(100).reshape(-1, 1)\n",
    "    # Evaluate acquisition scores for each sample\n",
    "    scores = probability_of_improvement(X, Xsamples)\n",
    "    # Identify the sample with the highest score\n",
    "    best_index = np.argmax(scores)\n",
    "    return Xsamples[best_index, 0]"
   ]
  },
  {
   "cell_type": "code",
   "execution_count": null,
   "metadata": {},
   "outputs": [],
   "source": [
    "# Run optimization loop to improve sampling points iteratively\n",
    "for i in range(100):\n",
    "    next_sample = optimize_acquisition(X, y)\n",
    "    actual_value = objective(next_sample)\n",
    "    \n",
    "    # Update dataset with new sample point and observation\n",
    "    X = np.vstack((X, [[next_sample]]))\n",
    "    y = np.vstack((y, [[actual_value]]))\n",
    "    \n",
    "    # Re-fit model with updated data\n",
    "    model.fit(X, y)\n",
    "\n",
    "# Final plot of all samples and surrogate model predictions\n",
    "visualize(X, y)\n",
    "\n",
    "# Identify and print the best result found during optimization\n",
    "best_index = np.argmax(y)\n",
    "print('Best Result: x=%.3f, y=%.3f' % (X[best_index], y[best_index]))"
   ]
  },
  {
   "cell_type": "markdown",
   "metadata": {},
   "source": [
    "# Final Results"
   ]
  }
 ],
 "metadata": {
  "kernelspec": {
   "display_name": "ai",
   "language": "python",
   "name": "python3"
  },
  "language_info": {
   "codemirror_mode": {
    "name": "ipython",
    "version": 3
   },
   "file_extension": ".py",
   "mimetype": "text/x-python",
   "name": "python",
   "nbconvert_exporter": "python",
   "pygments_lexer": "ipython3",
   "version": "3.9.19"
  }
 },
 "nbformat": 4,
 "nbformat_minor": 2
}
