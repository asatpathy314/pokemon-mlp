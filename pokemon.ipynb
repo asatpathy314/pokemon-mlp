{
 "cells": [
  {
   "cell_type": "markdown",
   "metadata": {},
   "source": [
    "Imports"
   ]
  },
  {
   "cell_type": "code",
   "execution_count": 3,
   "metadata": {},
   "outputs": [],
   "source": [
    "import numpy as np\n",
    "import matplotlib.pyplot as plt\n",
    "import math \n",
    "import pandas as pd \n",
    "from PIL import Image\n",
    "from sklearn.model_selection import train_test_split\n",
    "import os   "
   ]
  },
  {
   "cell_type": "markdown",
   "metadata": {},
   "source": [
    "# Cleaning up the Dataset"
   ]
  },
  {
   "cell_type": "code",
   "execution_count": 9,
   "metadata": {},
   "outputs": [],
   "source": [
    "\n",
    "def load_images(folder_name):\n",
    "    images = []\n",
    "    for filename in os.listdir(folder_name):\n",
    "        try:\n",
    "            filepath = os.path.join(folder_name, filename)\n",
    "            img = Image.open(filepath)\n",
    "            images.append(img)\n",
    "        except Exception as error:\n",
    "            print(f\"Error loading {folder_name}: {error}\")\n",
    "    return images\n",
    "\n",
    "def image_processing(images):\n",
    "    new_images = []\n",
    "    for image in images:\n",
    "        array_image = np.asarray(image).flatten()\n",
    "        new_images.append(array_image)\n",
    "    return new_images\n",
    "\n",
    "# Downsampling\n",
    "images = load_images(\"images\")\n",
    "data = image_processing(images)"
   ]
  },
  {
   "cell_type": "markdown",
   "metadata": {},
   "source": [
    "# Training Code"
   ]
  },
  {
   "cell_type": "markdown",
   "metadata": {},
   "source": [
    "# Bayesian Hyperparameter Optimization"
   ]
  },
  {
   "cell_type": "code",
   "execution_count": null,
   "metadata": {},
   "outputs": [
    {
     "name": "stderr",
     "output_type": "stream",
     "text": [
      "/var/folders/f1/tq0d32ns75nf17h55y1swtdh0000gn/T/ipykernel_70705/2057416732.py:12: DeprecationWarning: Conversion of an array with ndim > 0 to a scalar is deprecated, and will error in future. Ensure you extract a single element from your array before performing this operation. (Deprecated NumPy 1.25.)\n",
      "  return (x**2 * sin(5 * pi * x)**6.0) + noise\n"
     ]
    },
    {
     "data": {
      "image/png": "[encoded data removed]",
      "text/plain": [
       "<Figure size 640x480 with 1 Axes>"
      ]
     },
     "metadata": {},
     "output_type": "display_data"
    },
    {
     "ename": "IndexError",
     "evalue": "too many indices for array: array is 1-dimensional, but 2 were indexed",
     "output_type": "error",
     "traceback": [
      "\u001b[0;31m---------------------------------------------------------------------------\u001b[0m",
      "\u001b[0;31mIndexError\u001b[0m                                Traceback (most recent call last)",
      "Cell \u001b[0;32mIn[10], line 67\u001b[0m\n\u001b[1;32m     64\u001b[0m \u001b[38;5;66;03m# perform iterative optimization process\u001b[39;00m\n\u001b[1;32m     65\u001b[0m \u001b[38;5;28;01mfor\u001b[39;00m iteration \u001b[38;5;129;01min\u001b[39;00m \u001b[38;5;28mrange\u001b[39m(\u001b[38;5;241m100\u001b[39m):\n\u001b[1;32m     66\u001b[0m     \u001b[38;5;66;03m# determine the next sampling point using acquisition function optimization\u001b[39;00m\n\u001b[0;32m---> 67\u001b[0m     next_sample \u001b[38;5;241m=\u001b[39m \u001b[43moptimize_acquisition\u001b[49m\u001b[43m(\u001b[49m\u001b[43mX_data\u001b[49m\u001b[43m,\u001b[49m\u001b[43m \u001b[49m\u001b[43my_data\u001b[49m\u001b[43m,\u001b[49m\u001b[43m \u001b[49m\u001b[43mgp_model\u001b[49m\u001b[43m)\u001b[49m\n\u001b[1;32m     69\u001b[0m     \u001b[38;5;66;03m# evaluate the target function at the selected point\u001b[39;00m\n\u001b[1;32m     70\u001b[0m     observed_value \u001b[38;5;241m=\u001b[39m target_function(next_sample)\n",
      "Cell \u001b[0;32mIn[10], line 38\u001b[0m, in \u001b[0;36moptimize_acquisition\u001b[0;34m(X_known, y_known, model)\u001b[0m\n\u001b[1;32m     36\u001b[0m candidate_points \u001b[38;5;241m=\u001b[39m random(\u001b[38;5;241m100\u001b[39m)\u001b[38;5;241m.\u001b[39mreshape(\u001b[38;5;241m-\u001b[39m\u001b[38;5;241m1\u001b[39m, \u001b[38;5;241m1\u001b[39m)\n\u001b[1;32m     37\u001b[0m \u001b[38;5;66;03m# evaluate acquisition scores for candidates\u001b[39;00m\n\u001b[0;32m---> 38\u001b[0m scores \u001b[38;5;241m=\u001b[39m \u001b[43mprob_of_improvement\u001b[49m\u001b[43m(\u001b[49m\u001b[43mX_known\u001b[49m\u001b[43m,\u001b[49m\u001b[43m \u001b[49m\u001b[43mcandidate_points\u001b[49m\u001b[43m,\u001b[49m\u001b[43m \u001b[49m\u001b[43mmodel\u001b[49m\u001b[43m)\u001b[49m\n\u001b[1;32m     39\u001b[0m \u001b[38;5;66;03m# find the candidate with the highest score\u001b[39;00m\n\u001b[1;32m     40\u001b[0m best_idx \u001b[38;5;241m=\u001b[39m argmax(scores)\n",
      "Cell \u001b[0;32mIn[10], line 28\u001b[0m, in \u001b[0;36mprob_of_improvement\u001b[0;34m(X_known, X_candidates, model)\u001b[0m\n\u001b[1;32m     26\u001b[0m \u001b[38;5;66;03m# compute mean and standard deviation for candidates\u001b[39;00m\n\u001b[1;32m     27\u001b[0m means, std_devs \u001b[38;5;241m=\u001b[39m model_prediction(model, X_candidates)\n\u001b[0;32m---> 28\u001b[0m means \u001b[38;5;241m=\u001b[39m \u001b[43mmeans\u001b[49m\u001b[43m[\u001b[49m\u001b[43m:\u001b[49m\u001b[43m,\u001b[49m\u001b[43m \u001b[49m\u001b[38;5;241;43m0\u001b[39;49m\u001b[43m]\u001b[49m\n\u001b[1;32m     29\u001b[0m \u001b[38;5;66;03m# calculate probability of improvement\u001b[39;00m\n\u001b[1;32m     30\u001b[0m probabilities \u001b[38;5;241m=\u001b[39m norm\u001b[38;5;241m.\u001b[39mcdf((means \u001b[38;5;241m-\u001b[39m best_score) \u001b[38;5;241m/\u001b[39m (std_devs \u001b[38;5;241m+\u001b[39m \u001b[38;5;241m1E-9\u001b[39m))\n",
      "\u001b[0;31mIndexError\u001b[0m: too many indices for array: array is 1-dimensional, but 2 were indexed"
     ]
    }
   ],
   "source": [
    "from math import sin, pi\n",
    "from numpy import arange, vstack, argmax, asarray\n",
    "from numpy.random import normal, random\n",
    "from scipy.stats import norm\n",
    "from sklearn.gaussian_process import GaussianProcessRegressor\n",
    "from warnings import catch_warnings, simplefilter\n",
    "from matplotlib import pyplot as plt\n",
    "\n",
    "# target function to optimize\n",
    "def target_function(x, noise_level=0.1):\n",
    "    noise = normal(loc=0, scale=noise_level)\n",
    "    return (x**2 * sin(5 * pi * x)**6.0) + noise\n",
    "\n",
    "# approximation of the target function using a model\n",
    "def model_prediction(model, inputs):\n",
    "    # suppress warnings during prediction\n",
    "    with catch_warnings():\n",
    "        simplefilter(\"ignore\")\n",
    "        return model.predict(inputs, return_std=True)\n",
    "\n",
    "# probability of improvement acquisition function\n",
    "def prob_of_improvement(X_known, X_candidates, model, xi=0.01):\n",
    "    # Predict the mean and standard deviation of the known points\n",
    "    mu, sigma = model_prediction(model, X_known)\n",
    "    # Best known value\n",
    "    best = max(mu)\n",
    "    \n",
    "    # Predict the mean and standard deviation of the candidate points\n",
    "    mu_cand, sigma_cand = model_prediction(model, X_candidates)\n",
    "    \n",
    "    # Calculate the probability of improvement\n",
    "    imp = mu_cand - best - xi\n",
    "    Z = imp / sigma_cand\n",
    "    prob = norm.cdf(Z)\n",
    "    \n",
    "    return prob\n",
    "\n",
    "# optimization of acquisition function to select next sample point\n",
    "def optimize_acquisition(X_known, y_known, model):\n",
    "    # generate random candidate points\n",
    "    candidate_points = random(100).reshape(-1, 1)\n",
    "    # evaluate acquisition scores for candidates\n",
    "    scores = prob_of_improvement(X_known, candidate_points, model)\n",
    "    # find the candidate with the highest score\n",
    "    best_idx = argmax(scores)\n",
    "    return candidate_points[best_idx, 0]\n",
    "\n",
    "# visualize the true observations and the surrogate model's predictions\n",
    "def visualize(X_known, y_known, model):\n",
    "    # scatter plot of observed data points\n",
    "    plt.scatter(X_known, y_known)\n",
    "    # line plot of surrogate model predictions over domain\n",
    "    domain_samples = asarray(arange(0, 1, 0.001)).reshape(-1, 1)\n",
    "    predictions, _ = model_prediction(model, domain_samples)\n",
    "    plt.plot(domain_samples, predictions)\n",
    "    plt.show()\n",
    "\n",
    "# generate initial noisy samples from the domain\n",
    "X_data = random(100).reshape(-1, 1)\n",
    "y_data = asarray([target_function(x) for x in X_data]).reshape(-1, 1)\n",
    "\n",
    "# initialize Gaussian Process model\n",
    "gp_model = GaussianProcessRegressor()\n",
    "gp_model.fit(X_data, y_data)\n",
    "\n",
    "# visualize initial state of observations and surrogate model\n",
    "visualize(X_data, y_data, gp_model)\n",
    "\n",
    "# perform iterative optimization process\n",
    "for iteration in range(100):\n",
    "    # determine the next sampling point using acquisition function optimization\n",
    "    next_sample = optimize_acquisition(X_data, y_data, gp_model)\n",
    "    \n",
    "    # evaluate the target function at the selected point\n",
    "    observed_value = target_function(next_sample)\n",
    "    \n",
    "    # print progress information\n",
    "    predicted_value, _ = model_prediction(gp_model, [[next_sample]])\n",
    "    print(f'>x={next_sample:.3f}, predicted={predicted_value[0]:.6f}, actual={observed_value:.3f}')\n",
    "    \n",
    "    # update dataset with new sample and retrain the model\n",
    "    X_data = vstack((X_data, [[next_sample]]))\n",
    "    y_data = vstack((y_data, [[observed_value]]))\n",
    "    \n",
    "    gp_model.fit(X_data, y_data)\n",
    "\n",
    "# visualize final state of observations and surrogate model predictions\n",
    "visualize(X_data, y_data, gp_model)\n",
    "\n",
    "# report the best result found during optimization\n",
    "best_idx = argmax(y_data)\n",
    "print(f'Best Result: x={X_data[best_idx][0]:.3f}, y={y_data[best_idx][0]:.3f}')\n"
   ]
  },
  {
   "cell_type": "markdown",
   "metadata": {},
   "source": [
    "# Final Results"
   ]
  }
 ],
 "metadata": {
  "kernelspec": {
   "display_name": "ai",
   "language": "python",
   "name": "python3"
  },
  "language_info": {
   "codemirror_mode": {
    "name": "ipython",
    "version": 3
   },
   "file_extension": ".py",
   "mimetype": "text/x-python",
   "name": "python",
   "nbconvert_exporter": "python",
   "pygments_lexer": "ipython3",
   "version": "3.9.19"
  }
 },
 "nbformat": 4,
 "nbformat_minor": 2
}
