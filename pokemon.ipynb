{
 "cells": [
  {
   "cell_type": "markdown",
   "metadata": {},
   "source": [
    "Imports"
   ]
  },
  {
   "cell_type": "code",
   "execution_count": null,
   "metadata": {},
   "outputs": [],
   "source": [
    "import numpy as np\n",
    "import matplotlib.pyplot as plt\n",
    "import math \n",
    "import pandas as pd \n",
    "from PIL import Image\n",
    "from sklearn.model_selection import train_test_split\n",
    "import pillow \n",
    "import os   "
   ]
  },
  {
   "cell_type": "markdown",
   "metadata": {},
   "source": [
    "# Cleaning up the Dataset"
   ]
  },
  {
   "cell_type": "code",
   "execution_count": null,
   "metadata": {},
   "outputs": [],
   "source": [
    "### Process images of Pokemon\n",
    "folder_directory = \"C:\\Users\\Guy\\OneDrive - University of Virginia\\Notebooks\"\n",
    "folder_name = \"images\"\n",
    "image_size = (60,60)\n",
    "def load_images(folder_directory, folder_name){\n",
    "    images = []\n",
    "    for filename in os.listdir(folder_directory):\n",
    "        file_path = os.path.join(folder_directory, folder_name)\n",
    "        try:\n",
    "            img = Image.open(folder_name)\n",
    "            images.append(img)\n",
    "            print(f\"Loaded image: {folder_name}\")\n",
    "        except Exception as error:\n",
    "            print(f\"Error loading {folder_name}: {error}\")\n",
    "    return images\n",
    "}\n",
    "\n",
    "def image_processing(images, image_size){\n",
    "    new_images = []\n",
    "    for image in images:\n",
    "        resize = img.resize(image_size)\n",
    "        array_image = np.array(resize)\n",
    "        array_1d = array_image.flatten()\n",
    "        new_images.append(array_1d)\n",
    "        return new_images\n",
    "}\n",
    "\n",
    "# Downsampling\n",
    "img_array = np.asarray(img)  # convert to a numpy array\n",
    "print(img_array.shape)\n",
    "ds_rate = 50\n",
    "img_ds_array = img_array[0::ds_rate, 0::ds_rate]\n",
    "print(img_ds_array.shape)\n",
    "img_ds = Image.fromarray(img_ds_array)  # convert back to an image"
   ]
  },
  {
   "cell_type": "markdown",
   "metadata": {},
   "source": [
    "# Training Code"
   ]
  },
  {
   "cell_type": "markdown",
   "metadata": {},
   "source": [
    "# Bayesian Hyperparameter Optimization"
   ]
  },
  {
   "cell_type": "markdown",
   "metadata": {},
   "source": [
    "# Final Results"
   ]
  }
 ],
 "metadata": {
  "kernelspec": {
   "display_name": "ai",
   "language": "python",
   "name": "python3"
  },
  "language_info": {
   "codemirror_mode": {
    "name": "ipython",
    "version": 3
   },
   "file_extension": ".py",
   "mimetype": "text/x-python",
   "name": "python",
   "nbconvert_exporter": "python",
   "pygments_lexer": "ipython3",
   "version": "3.9.19"
  }
 },
 "nbformat": 4,
 "nbformat_minor": 2
}
